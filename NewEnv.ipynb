{
 "cells": [
  {
   "cell_type": "code",
   "execution_count": 1,
   "metadata": {},
   "outputs": [
    {
     "name": "stdout",
     "output_type": "stream",
     "text": [
      "Collecting package metadata (current_repodata.json): done\n",
      "Solving environment: done\n",
      "\n",
      "\n",
      "==> WARNING: A newer version of conda exists. <==\n",
      "  current version: 4.8.4\n",
      "  latest version: 4.10.1\n",
      "\n",
      "Please update conda by running\n",
      "\n",
      "    $ conda update -n base -c defaults conda\n",
      "\n",
      "\n",
      "\n",
      "## Package Plan ##\n",
      "\n",
      "  environment location: /Users/ekaterina/opt/anaconda3/envs/myenv\n",
      "\n",
      "\n",
      "\n",
      "Proceed ([y]/n)? ^C\n",
      "\n",
      "CondaSystemExit: \n",
      "Operation aborted.  Exiting.\n",
      "\n",
      "\n",
      "Note: you may need to restart the kernel to use updated packages.\n"
     ]
    }
   ],
   "source": [
    "conda create --name myenv"
   ]
  },
  {
   "cell_type": "code",
   "execution_count": 2,
   "metadata": {},
   "outputs": [
    {
     "ename": "NameError",
     "evalue": "name 'y' is not defined",
     "output_type": "error",
     "traceback": [
      "\u001b[0;31m---------------------------------------------------------------------------\u001b[0m",
      "\u001b[0;31mNameError\u001b[0m                                 Traceback (most recent call last)",
      "\u001b[0;32m<ipython-input-2-9063a9f0e032>\u001b[0m in \u001b[0;36m<module>\u001b[0;34m\u001b[0m\n\u001b[0;32m----> 1\u001b[0;31m \u001b[0my\u001b[0m\u001b[0;34m\u001b[0m\u001b[0;34m\u001b[0m\u001b[0m\n\u001b[0m",
      "\u001b[0;31mNameError\u001b[0m: name 'y' is not defined"
     ]
    }
   ],
   "source": [
    "y"
   ]
  },
  {
   "cell_type": "code",
   "execution_count": 3,
   "metadata": {},
   "outputs": [
    {
     "name": "stdout",
     "output_type": "stream",
     "text": [
      "Collecting package metadata (current_repodata.json): done\n",
      "Solving environment: done\n",
      "\n",
      "\n",
      "==> WARNING: A newer version of conda exists. <==\n",
      "  current version: 4.8.4\n",
      "  latest version: 4.10.1\n",
      "\n",
      "Please update conda by running\n",
      "\n",
      "    $ conda update -n base -c defaults conda\n",
      "\n",
      "\n",
      "\n",
      "## Package Plan ##\n",
      "\n",
      "  environment location: /Users/ekaterina/opt/anaconda3/envs/myenv\n",
      "\n",
      "  added / updated specs:\n",
      "    - scipy\n",
      "\n",
      "\n",
      "The following packages will be downloaded:\n",
      "\n",
      "    package                    |            build\n",
      "    ---------------------------|-----------------\n",
      "    ca-certificates-2021.4.13  |       hecd8cb5_1         114 KB\n",
      "    certifi-2020.12.5          |   py39hecd8cb5_0         141 KB\n",
      "    intel-openmp-2021.2.0      |     hecd8cb5_564         942 KB\n",
      "    mkl-2021.2.0               |     hecd8cb5_269       100.0 MB\n",
      "    mkl-service-2.3.0          |   py39h9ed2024_1          44 KB\n",
      "    mkl_fft-1.3.0              |   py39h4a7008c_2         167 KB\n",
      "    mkl_random-1.2.1           |   py39hb2f4e1b_2         282 KB\n",
      "    numpy-1.20.2               |   py39h4b4dc7a_0          23 KB\n",
      "    numpy-base-1.20.2          |   py39he0bd621_0         4.3 MB\n",
      "    openssl-1.1.1k             |       h9ed2024_0         2.2 MB\n",
      "    pip-21.1.1                 |   py39hecd8cb5_0         1.8 MB\n",
      "    python-3.9.5               |       h88f2d9e_3         9.9 MB\n",
      "    readline-8.1               |       h9ed2024_0         333 KB\n",
      "    scipy-1.6.2                |   py39hd5f7400_1        14.7 MB\n",
      "    setuptools-52.0.0          |   py39hecd8cb5_0         724 KB\n",
      "    six-1.15.0                 |   py39hecd8cb5_0          27 KB\n",
      "    sqlite-3.35.4              |       hce871da_0         1.1 MB\n",
      "    tzdata-2020f               |       h52ac0ba_0         113 KB\n",
      "    wheel-0.36.2               |     pyhd3eb1b0_0          33 KB\n",
      "    ------------------------------------------------------------\n",
      "                                           Total:       136.8 MB\n",
      "\n",
      "The following NEW packages will be INSTALLED:\n",
      "\n",
      "  blas               pkgs/main/osx-64::blas-1.0-mkl\n",
      "  ca-certificates    pkgs/main/osx-64::ca-certificates-2021.4.13-hecd8cb5_1\n",
      "  certifi            pkgs/main/osx-64::certifi-2020.12.5-py39hecd8cb5_0\n",
      "  intel-openmp       pkgs/main/osx-64::intel-openmp-2021.2.0-hecd8cb5_564\n",
      "  libcxx             pkgs/main/osx-64::libcxx-10.0.0-1\n",
      "  libffi             pkgs/main/osx-64::libffi-3.3-hb1e8313_2\n",
      "  libgfortran        pkgs/main/osx-64::libgfortran-3.0.1-h93005f0_2\n",
      "  mkl                pkgs/main/osx-64::mkl-2021.2.0-hecd8cb5_269\n",
      "  mkl-service        pkgs/main/osx-64::mkl-service-2.3.0-py39h9ed2024_1\n",
      "  mkl_fft            pkgs/main/osx-64::mkl_fft-1.3.0-py39h4a7008c_2\n",
      "  mkl_random         pkgs/main/osx-64::mkl_random-1.2.1-py39hb2f4e1b_2\n",
      "  ncurses            pkgs/main/osx-64::ncurses-6.2-h0a44026_1\n",
      "  numpy              pkgs/main/osx-64::numpy-1.20.2-py39h4b4dc7a_0\n",
      "  numpy-base         pkgs/main/osx-64::numpy-base-1.20.2-py39he0bd621_0\n",
      "  openssl            pkgs/main/osx-64::openssl-1.1.1k-h9ed2024_0\n",
      "  pip                pkgs/main/osx-64::pip-21.1.1-py39hecd8cb5_0\n",
      "  python             pkgs/main/osx-64::python-3.9.5-h88f2d9e_3\n",
      "  readline           pkgs/main/osx-64::readline-8.1-h9ed2024_0\n",
      "  scipy              pkgs/main/osx-64::scipy-1.6.2-py39hd5f7400_1\n",
      "  setuptools         pkgs/main/osx-64::setuptools-52.0.0-py39hecd8cb5_0\n",
      "  six                pkgs/main/osx-64::six-1.15.0-py39hecd8cb5_0\n",
      "  sqlite             pkgs/main/osx-64::sqlite-3.35.4-hce871da_0\n",
      "  tk                 pkgs/main/osx-64::tk-8.6.10-hb0a8c7a_0\n",
      "  tzdata             pkgs/main/noarch::tzdata-2020f-h52ac0ba_0\n",
      "  wheel              pkgs/main/noarch::wheel-0.36.2-pyhd3eb1b0_0\n",
      "  xz                 pkgs/main/osx-64::xz-5.2.5-h1de35cc_0\n",
      "  zlib               pkgs/main/osx-64::zlib-1.2.11-h1de35cc_3\n",
      "\n",
      "\n",
      "Proceed ([y]/n)? ^C\n",
      "\n",
      "CondaSystemExit: \n",
      "Operation aborted.  Exiting.\n",
      "\n",
      "\n",
      "Note: you may need to restart the kernel to use updated packages.\n"
     ]
    }
   ],
   "source": [
    "conda create -n myenv scipy"
   ]
  },
  {
   "cell_type": "code",
   "execution_count": 4,
   "metadata": {},
   "outputs": [
    {
     "name": "stdout",
     "output_type": "stream",
     "text": [
      "Collecting package metadata (current_repodata.json): done\n",
      "Solving environment: done\n",
      "\n",
      "## Package Plan ##\n",
      "\n",
      "  environment location: /Users/ekaterina/opt/anaconda3\n",
      "\n",
      "  added / updated specs:\n",
      "    - conda\n",
      "\n",
      "\n",
      "The following packages will be downloaded:\n",
      "\n",
      "    package                    |            build\n",
      "    ---------------------------|-----------------\n",
      "    backports.functools_lru_cache-1.6.4|     pyhd3eb1b0_0           9 KB\n",
      "    backports.tempfile-1.0     |     pyhd3eb1b0_1          11 KB\n",
      "    conda-4.10.1               |   py38hecd8cb5_1         2.9 MB\n",
      "    conda-package-handling-1.7.3|   py38h9ed2024_1         1.5 MB\n",
      "    ------------------------------------------------------------\n",
      "                                           Total:         4.4 MB\n",
      "\n",
      "The following packages will be UPDATED:\n",
      "\n",
      "  backports.functoo~                             1.6.1-py_0 --> 1.6.4-pyhd3eb1b0_0\n",
      "  conda                                        4.8.4-py38_0 --> 4.10.1-py38hecd8cb5_1\n",
      "  conda-package-han~                   1.6.1-py38h1de35cc_0 --> 1.7.3-py38h9ed2024_1\n",
      "\n",
      "The following packages will be DOWNGRADED:\n",
      "\n",
      "  backports.tempfile                               1.0-py_1 --> 1.0-pyhd3eb1b0_1\n",
      "\n",
      "\n",
      "\n",
      "Downloading and Extracting Packages\n",
      "backports.functools_ | 9 KB      | ##################################### | 100% \n",
      "conda-package-handli | 1.5 MB    | ##################################### | 100% \n",
      "backports.tempfile-1 | 11 KB     | ##################################### | 100% \n",
      "conda-4.10.1         | 2.9 MB    | ##################################### | 100% \n",
      "Preparing transaction: done\n",
      "Verifying transaction: done\n",
      "Executing transaction: done\n",
      "\n",
      "Note: you may need to restart the kernel to use updated packages.\n"
     ]
    }
   ],
   "source": [
    "conda update -n base -c defaults conda"
   ]
  },
  {
   "cell_type": "code",
   "execution_count": 5,
   "metadata": {},
   "outputs": [
    {
     "name": "stdout",
     "output_type": "stream",
     "text": [
      "Collecting package metadata (current_repodata.json): done\n",
      "Solving environment: failed with repodata from current_repodata.json, will retry with next repodata source.\n",
      "Collecting package metadata (repodata.json): done\n",
      "Solving environment: failed\n",
      "\n",
      "PackagesNotFoundError: The following packages are not available from current channels:\n",
      "\n",
      "  - myenv-myproject\n",
      "\n",
      "Current channels:\n",
      "\n",
      "  - https://repo.anaconda.com/pkgs/main/osx-64\n",
      "  - https://repo.anaconda.com/pkgs/main/noarch\n",
      "  - https://repo.anaconda.com/pkgs/r/osx-64\n",
      "  - https://repo.anaconda.com/pkgs/r/noarch\n",
      "\n",
      "To search for alternate channels that may provide the conda package you're\n",
      "looking for, navigate to\n",
      "\n",
      "    https://anaconda.org\n",
      "\n",
      "and use the search bar at the top of the page.\n",
      "\n",
      "\n",
      "\n",
      "Note: you may need to restart the kernel to use updated packages.\n"
     ]
    }
   ],
   "source": [
    "conda create --name myenv myenv-myproject"
   ]
  },
  {
   "cell_type": "code",
   "execution_count": null,
   "metadata": {},
   "outputs": [],
   "source": []
  }
 ],
 "metadata": {
  "kernelspec": {
   "display_name": "Python 3",
   "language": "python",
   "name": "python3"
  },
  "language_info": {
   "codemirror_mode": {
    "name": "ipython",
    "version": 3
   },
   "file_extension": ".py",
   "mimetype": "text/x-python",
   "name": "python",
   "nbconvert_exporter": "python",
   "pygments_lexer": "ipython3",
   "version": "3.8.3"
  }
 },
 "nbformat": 4,
 "nbformat_minor": 4
}
